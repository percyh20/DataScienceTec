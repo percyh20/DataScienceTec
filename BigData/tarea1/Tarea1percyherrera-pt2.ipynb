{
 "cells": [
  {
   "cell_type": "markdown",
   "metadata": {},
   "source": [
    "## Laboratorio Spark Tarea 1\n",
    "\n",
    "Vamos realizar varias acciones de pre-procesamiento de datos con Spark, para el caso de la tarea utilizaremos el Datase\n",
    "\"Healthcare Dataset Stroke Data\" de Kaggle el cual es parecido al utilizado en clase"
   ]
  },
  {
   "cell_type": "code",
   "execution_count": 7,
   "metadata": {},
   "outputs": [],
   "source": [
    "from pyspark.sql import SparkSession\n",
    "\n",
    "spark=SparkSession.builder.appName('tarea1').getOrCreate()\n",
    "\n",
    "import pyspark.sql.functions as F\n",
    "from pyspark.sql.types import *"
   ]
  },
  {
   "cell_type": "code",
   "execution_count": 4,
   "metadata": {},
   "outputs": [],
   "source": [
    "import findspark\n",
    "findspark.init(\"C:\\Spark\\spark-3.0.0-preview-bin-hadoop2.7\")\n",
    "\n",
    "from datetime import datetime\n",
    "from pyspark.sql import SparkSession\n",
    "from pyspark.sql.functions import col, date_format, udf \n",
    "from pyspark.sql.types import DateType"
   ]
  },
  {
   "cell_type": "code",
   "execution_count": 11,
   "metadata": {},
   "outputs": [
    {
     "data": {
      "text/plain": [
       "43400"
      ]
     },
     "execution_count": 11,
     "metadata": {},
     "output_type": "execute_result"
    }
   ],
   "source": [
    "df = spark.read.csv('dataset\\\\train_2v.csv', inferSchema=True,header=True)\n",
    "df.count()"
   ]
  },
  {
   "cell_type": "markdown",
   "metadata": {},
   "source": [
    "Si obtuvimos el count del dataset la carga fue exitosa, deberia de ser de 43400 tuplas.\n",
    "\n",
    "Ahora revisemos la cantidad de columnas y su schema"
   ]
  },
  {
   "cell_type": "code",
   "execution_count": 13,
   "metadata": {},
   "outputs": [
    {
     "name": "stdout",
     "output_type": "stream",
     "text": [
      "Cantidad de columnas 12\n",
      "root\n",
      " |-- id: integer (nullable = true)\n",
      " |-- gender: string (nullable = true)\n",
      " |-- age: double (nullable = true)\n",
      " |-- hypertension: integer (nullable = true)\n",
      " |-- heart_disease: integer (nullable = true)\n",
      " |-- ever_married: string (nullable = true)\n",
      " |-- work_type: string (nullable = true)\n",
      " |-- Residence_type: string (nullable = true)\n",
      " |-- avg_glucose_level: double (nullable = true)\n",
      " |-- bmi: double (nullable = true)\n",
      " |-- smoking_status: string (nullable = true)\n",
      " |-- stroke: integer (nullable = true)\n",
      "\n"
     ]
    }
   ],
   "source": [
    "print('Cantidad de columnas' ,len(df.columns))\n",
    "df.printSchema()"
   ]
  },
  {
   "cell_type": "markdown",
   "metadata": {},
   "source": [
    "Veamos una muestra del dataset como esta conformado"
   ]
  },
  {
   "cell_type": "code",
   "execution_count": 14,
   "metadata": {},
   "outputs": [
    {
     "name": "stdout",
     "output_type": "stream",
     "text": [
      "+-----+------+----+------------+-------------+------------+------------+--------------+-----------------+----+---------------+------+\n",
      "|   id|gender| age|hypertension|heart_disease|ever_married|   work_type|Residence_type|avg_glucose_level| bmi| smoking_status|stroke|\n",
      "+-----+------+----+------------+-------------+------------+------------+--------------+-----------------+----+---------------+------+\n",
      "|30669|  Male| 3.0|           0|            0|          No|    children|         Rural|            95.12|18.0|           null|     0|\n",
      "|30468|  Male|58.0|           1|            0|         Yes|     Private|         Urban|            87.96|39.2|   never smoked|     0|\n",
      "|16523|Female| 8.0|           0|            0|          No|     Private|         Urban|           110.89|17.6|           null|     0|\n",
      "|56543|Female|70.0|           0|            0|         Yes|     Private|         Rural|            69.04|35.9|formerly smoked|     0|\n",
      "|46136|  Male|14.0|           0|            0|          No|Never_worked|         Rural|           161.28|19.1|           null|     0|\n",
      "+-----+------+----+------------+-------------+------------+------------+--------------+-----------------+----+---------------+------+\n",
      "only showing top 5 rows\n",
      "\n"
     ]
    }
   ],
   "source": [
    "df.show(5)"
   ]
  },
  {
   "cell_type": "markdown",
   "metadata": {},
   "source": [
    "### Insights\n",
    "\n",
    "Veamos la estadistica de Ataques al corazon por **Genero**"
   ]
  },
  {
   "cell_type": "code",
   "execution_count": 65,
   "metadata": {},
   "outputs": [
    {
     "name": "stdout",
     "output_type": "stream",
     "text": [
      "+------+------+-----+\n",
      "|gender|stroke|count|\n",
      "+------+------+-----+\n",
      "|Female|     0|25234|\n",
      "|Female|     1|  431|\n",
      "|  Male|     0|17372|\n",
      "|  Male|     1|  352|\n",
      "+------+------+-----+\n",
      "\n"
     ]
    }
   ],
   "source": [
    "df.where(df['gender'] != 'Other').orderBy('gender').groupBy('gender','stroke').count().show()\n"
   ]
  },
  {
   "cell_type": "markdown",
   "metadata": {},
   "source": [
    "Veamos si el matrimonio tiene influencia en sufrir un ataque"
   ]
  },
  {
   "cell_type": "code",
   "execution_count": 84,
   "metadata": {},
   "outputs": [
    {
     "name": "stdout",
     "output_type": "stream",
     "text": [
      "+------+------------+------+-----+\n",
      "|gender|ever_married|stroke|count|\n",
      "+------+------------+------+-----+\n",
      "|Female|          No|     0| 8778|\n",
      "|Female|          No|     1|   47|\n",
      "|Female|         Yes|     0|16456|\n",
      "|Female|         Yes|     1|  384|\n",
      "|  Male|          No|     0| 6598|\n",
      "|  Male|          No|     1|   33|\n",
      "|  Male|         Yes|     0|10774|\n",
      "|  Male|         Yes|     1|  319|\n",
      "+------+------------+------+-----+\n",
      "\n"
     ]
    }
   ],
   "source": [
    "df.where(df['gender']!= 'Other').orderBy('gender','ever_married').groupBy('gender','ever_married','stroke').count().show()\n"
   ]
  },
  {
   "cell_type": "markdown",
   "metadata": {},
   "source": [
    "Veamos la media en glucosa en sangre para personas que sufrieron un ataque y las que no."
   ]
  },
  {
   "cell_type": "code",
   "execution_count": 81,
   "metadata": {},
   "outputs": [
    {
     "name": "stdout",
     "output_type": "stream",
     "text": [
      "+------+------------------+\n",
      "|stroke|      mean_glucose|\n",
      "+------+------------------+\n",
      "|     1|129.58266922094504|\n",
      "|     0|104.02159044512646|\n",
      "+------+------------------+\n",
      "\n"
     ]
    }
   ],
   "source": [
    "df.groupBy('stroke').agg(F.avg('avg_glucose_level'). alias('mean_glucose')).show()\n"
   ]
  },
  {
   "cell_type": "markdown",
   "metadata": {},
   "source": [
    "Ahora obtenemos el datos de la media en indice de masa corporal"
   ]
  },
  {
   "cell_type": "code",
   "execution_count": 86,
   "metadata": {},
   "outputs": [
    {
     "name": "stdout",
     "output_type": "stream",
     "text": [
      "+------+------------------+\n",
      "|stroke|          mean_bmi|\n",
      "+------+------------------+\n",
      "|     1| 29.86811819595645|\n",
      "|     0|28.585371110304212|\n",
      "+------+------------------+\n",
      "\n"
     ]
    }
   ],
   "source": [
    "df.groupBy('stroke').agg(F.avg('bmi'). alias('mean_bmi')).show()\n"
   ]
  },
  {
   "cell_type": "markdown",
   "metadata": {},
   "source": [
    "Analicemos el promedio de Edad por genero"
   ]
  },
  {
   "cell_type": "code",
   "execution_count": 90,
   "metadata": {},
   "outputs": [
    {
     "name": "stdout",
     "output_type": "stream",
     "text": [
      "+------+------+-----------------+\n",
      "|stroke|gender|         mean_age|\n",
      "+------+------+-----------------+\n",
      "|     0|Female|42.29859871601806|\n",
      "|     0|  Male|40.93676260649317|\n",
      "|     1|Female| 68.4462180974478|\n",
      "|     1|  Male|67.77272727272727|\n",
      "+------+------+-----------------+\n",
      "\n"
     ]
    }
   ],
   "source": [
    "df.where(df['gender'] != 'Other').groupBy('stroke','gender').agg(F.avg('age'). alias('mean_age')).orderBy('stroke','gender').show()"
   ]
  },
  {
   "cell_type": "markdown",
   "metadata": {},
   "source": [
    "Estadistica del fumado en la incidencia de un ataque al corazon."
   ]
  },
  {
   "cell_type": "code",
   "execution_count": 96,
   "metadata": {},
   "outputs": [
    {
     "name": "stdout",
     "output_type": "stream",
     "text": [
      "+---------------+------+-----+\n",
      "| smoking_status|stroke|count|\n",
      "+---------------+------+-----+\n",
      "|        Unknown|     0|13147|\n",
      "|        Unknown|     1|  145|\n",
      "|formerly smoked|     0| 7272|\n",
      "|formerly smoked|     1|  221|\n",
      "|   never smoked|     0|15769|\n",
      "|   never smoked|     1|  284|\n",
      "|         smokes|     0| 6429|\n",
      "|         smokes|     1|  133|\n",
      "+---------------+------+-----+\n",
      "\n"
     ]
    }
   ],
   "source": [
    "df = df.fillna( {'smoking_status':'Unknown'})\n",
    "df.groupBy('smoking_status','stroke').count().orderBy('smoking_status','stroke').show()\n"
   ]
  },
  {
   "cell_type": "markdown",
   "metadata": {},
   "source": [
    "### Acciones nuevas\n",
    "\n",
    "Ahora veamos algunas acciones no vistas en clase\n",
    "\n",
    "**1 - createOrReplaceTempView**\n",
    "\n",
    "Esta accion crea una tabla temporal apartir de nuestro spark data frame.\n",
    "\n"
   ]
  },
  {
   "cell_type": "code",
   "execution_count": 15,
   "metadata": {},
   "outputs": [],
   "source": [
    "df.createOrReplaceTempView('table')\n"
   ]
  },
  {
   "cell_type": "markdown",
   "metadata": {},
   "source": [
    "### Spark Sql\n",
    "\n",
    "Nos permite ejecutar queries nativos de sql sobre nuestros subset de datos de Spark\n",
    "\n",
    "Ahora analicemos cual tipo de ocupacion es la mas peligrosa\n",
    "\n",
    "**2- spark.sql**\n",
    "\n",
    "Veamos la cantidad de personas que sufrieron un ataque al corazon y su tipo de trabajo."
   ]
  },
  {
   "cell_type": "code",
   "execution_count": 16,
   "metadata": {},
   "outputs": [
    {
     "name": "stdout",
     "output_type": "stream",
     "text": [
      "+-------------+---------------+\n",
      "|    work_type|work_type_count|\n",
      "+-------------+---------------+\n",
      "|      Private|            441|\n",
      "|Self-employed|            251|\n",
      "|     Govt_job|             89|\n",
      "|     children|              2|\n",
      "+-------------+---------------+\n",
      "\n"
     ]
    }
   ],
   "source": [
    "spark.sql(\"SELECT work_type, count(work_type) as work_type_count FROM table WHERE stroke == 1 GROUP BY work_type ORDER BY work_type_count DESC\").show()"
   ]
  },
  {
   "cell_type": "markdown",
   "metadata": {},
   "source": [
    "Veamos la cantidad de ataque al corazon por edad"
   ]
  },
  {
   "cell_type": "code",
   "execution_count": 17,
   "metadata": {},
   "outputs": [
    {
     "name": "stdout",
     "output_type": "stream",
     "text": [
      "+----+---------+\n",
      "| age|age_count|\n",
      "+----+---------+\n",
      "|79.0|       70|\n",
      "|78.0|       57|\n",
      "|80.0|       49|\n",
      "|81.0|       43|\n",
      "|82.0|       36|\n",
      "|70.0|       25|\n",
      "|77.0|       24|\n",
      "|74.0|       24|\n",
      "|76.0|       24|\n",
      "|75.0|       23|\n",
      "|67.0|       23|\n",
      "|72.0|       21|\n",
      "|59.0|       20|\n",
      "|69.0|       20|\n",
      "|68.0|       20|\n",
      "|57.0|       19|\n",
      "|71.0|       19|\n",
      "|63.0|       18|\n",
      "|65.0|       18|\n",
      "|66.0|       17|\n",
      "+----+---------+\n",
      "only showing top 20 rows\n",
      "\n"
     ]
    }
   ],
   "source": [
    "spark.sql(\"SELECT age, count(age) as age_count FROM table WHERE stroke == 1 GROUP BY age ORDER BY age_count DESC\").show()"
   ]
  },
  {
   "cell_type": "markdown",
   "metadata": {},
   "source": [
    "### Spark Sampling\n",
    "\n",
    "Con esta funcion podemos extraer muestras aleatorias de nuestro dataframe para luego poder hacer graficos de estas muestras."
   ]
  },
  {
   "cell_type": "code",
   "execution_count": 47,
   "metadata": {},
   "outputs": [],
   "source": [
    "import seaborn as sns\n",
    "import matplotlib.pyplot as plt\n",
    "\n",
    "s_df = df.select(['avg_glucose_level', 'age'])\\\n",
    "         .sample(withReplacement=False, fraction=0.07, seed=3)\n",
    "\n",
    "s_df_pandas = s_df.toPandas() "
   ]
  },
  {
   "cell_type": "code",
   "execution_count": 51,
   "metadata": {},
   "outputs": [
    {
     "data": {
      "image/png": "[encoded data removed]",
      "text/plain": [
       "<Figure size 432x288 with 1 Axes>"
      ]
     },
     "metadata": {
      "needs_background": "light"
     },
     "output_type": "display_data"
    }
   ],
   "source": [
    "sns.distplot(s_df_pandas['avg_glucose_level'])\n",
    "plt.xlabel('glucose level') \n",
    "plt.show()\n"
   ]
  },
  {
   "cell_type": "code",
   "execution_count": null,
   "metadata": {},
   "outputs": [],
   "source": [
    "\n"
   ]
  }
 ],
 "metadata": {
  "kernelspec": {
   "display_name": "Python 3",
   "language": "python",
   "name": "python3"
  },
  "language_info": {
   "codemirror_mode": {
    "name": "ipython",
    "version": 3
   },
   "file_extension": ".py",
   "mimetype": "text/x-python",
   "name": "python",
   "nbconvert_exporter": "python",
   "pygments_lexer": "ipython3",
   "version": "3.7.3"
  }
 },
 "nbformat": 4,
 "nbformat_minor": 2
}
