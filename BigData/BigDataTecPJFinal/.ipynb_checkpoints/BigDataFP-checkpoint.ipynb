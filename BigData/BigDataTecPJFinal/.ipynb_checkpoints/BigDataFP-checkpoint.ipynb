{
 "cells": [
  {
   "cell_type": "code",
   "execution_count": 1,
   "metadata": {},
   "outputs": [],
   "source": [
    "import findspark\n",
    "findspark.init('/opt/spark')\n",
    "# importamos los packetes necesarios\n",
    "from pyspark import SparkContext\n",
    "from pyspark.streaming import StreamingContext\n",
    "from pyspark.sql import SQLContext\n",
    "from pyspark.sql.functions import desc"
   ]
  },
  {
   "cell_type": "markdown",
   "metadata": {},
   "source": [
    "### Inicializacion del Contexto Spark\n",
    "\n",
    "Seguidamente inicializamos nuestro SparkContext como punto de entrada a cualquier funcionalidad de Spark.\\\n",
    "\n",
    "Cuando corremos una applicacion de Spark, un programa conductor inicia, el cual contiene la funcion principal de nuestro SparkContext y es inicializado aqui. Un Contexto Spark representa la coneccion a un cluster, que puede ser usada para crear RDD's, acumuladores y transmitir estas variables en el cluster.\n"
   ]
  },
  {
   "cell_type": "code",
   "execution_count": 2,
   "metadata": {},
   "outputs": [],
   "source": [
    "sc = SparkContext()\n",
    "# inicializamos el StreaminContext con intervalos batch cada 10 segundos, y luego iniciamos el sqlcontext\n",
    "ssc = StreamingContext(sc, 10)\n",
    "sqlContext = SQLContext(sc)"
   ]
  },
  {
   "cell_type": "markdown",
   "metadata": {},
   "source": [
    "**En el siguiente paso asignamos nuestra fuente de entrada y entonces ponemos todos estos datos recibidos en lineas**\n",
    "\n"
   ]
  },
  {
   "cell_type": "code",
   "execution_count": 3,
   "metadata": {},
   "outputs": [],
   "source": [
    "# iniciamos el streaming de texto desde un socket TCP fuente:\n",
    "socket_stream = ssc.socketTextStream(\"127.0.0.1\", 5555)\n",
    "\n",
    "#lineas de tweets en el socket durante una ventana de 60 segundos\n",
    "lines = socket_stream.window(60)"
   ]
  },
  {
   "attachments": {},
   "cell_type": "markdown",
   "metadata": {},
   "source": [
    "Es importante mencionar que vamos a utilizar el mismo puerto que en la applicacion que colecta nuestros tweets, y la direccion IP es la misma, por que estamos corriendo todo esto en nuestra maquina local. Ademas de estos estamos utilizando la funcion **window()** para determinar que estamos analyzando los tweets cada 60 segundos para ver el top 10 de los hastags durante este tiempo.\n",
    "\n",
    "Aqui hay una imagen que nos permite entender mejor como la funcion **window()** funciona en Spark:\n",
    "\n",
    "\n",
    "![](image1.jpeg)\n",
    "\n",
    "ahora que ya tenemos todos los pre-requisitos listos, veamos como limpiamos los tweets que comienzan con **#** y salvamos el top 10 en una tabla temporal de SQL:\n"
   ]
  },
  {
   "cell_type": "code",
   "execution_count": 4,
   "metadata": {},
   "outputs": [],
   "source": [
    "# una tupla para assignar los nombres\n",
    "from collections import namedtuple\n",
    "fields = (\"hashtag\", \"count\" )\n",
    "Tweet = namedtuple( 'Tweet', fields )\n",
    "# aqui aplicamos diferentes operaciones en los tweets and y los salvamos en una tabla temporal sql\n",
    "( lines.flatMap( lambda text: text.split( \" \" ) ) #lo partimos y creamos una lista\n",
    "  #Buscamos por hastags #\n",
    "  .filter( lambda word: word.lower().startswith(\"#\") ) \n",
    "  .map( lambda word: ( word.lower(), 1 ) ) # hacemos minuscula la palabra\n",
    "  .reduceByKey( lambda a, b: a + b ) \n",
    " # guardmos en el objeto Tweet\n",
    "  .map( lambda rec: Tweet( rec[0], rec[1] ) )\n",
    " #los ordenamos en un dataframe\n",
    "  .foreachRDD( lambda rdd: rdd.toDF().sort( desc(\"count\") )\n",
    " #Registramos solo los top 10 en una tabla              \n",
    "  .limit(10).registerTempTable(\"tweets\") ) )"
   ]
  },
  {
   "cell_type": "markdown",
   "metadata": {},
   "source": [
    "we created a namedtuple object to save the tags with their counts. next we used flatmap() to create an array of tokenized tweets. we are using lambda functions because they require less memory and run faster. after that, we filter tweets that do not start with #. foreachRDD() is an important output function in pySpark that can help run faster operation on the RDDs. here we apply it to each RDD to convert it to a dataframe and finally we save it to a temporary table called “tweets”.\n",
    "\n",
    "## Ahora, corremos tweetsreceiver.py  y despues iniciamos nuesto SparkStreamingContext 'scc.start()'"
   ]
  },
  {
   "cell_type": "code",
   "execution_count": 5,
   "metadata": {},
   "outputs": [],
   "source": [
    "# iniciamos el streaming y esperamos unos minutos para colectar suficientes tweets\n",
    "ssc.start()"
   ]
  },
  {
   "cell_type": "markdown",
   "metadata": {},
   "source": [
    "next we import our visualization libraries and draw the graph for top 10 #tags in “Football” topic. here we run our streaming to check the top 10 #tags every minute only few (5) times just for the sake of learning purpose and you can see that the # tags do not change that often but if you want to see better results, you can keep it running for a while:"
   ]
  },
  {
   "cell_type": "code",
   "execution_count": 7,
   "metadata": {},
   "outputs": [
    {
     "data": {
      "image/png": "[encoded data removed]",
      "text/plain": [
       "<Figure size 720x576 with 1 Axes>"
      ]
     },
     "metadata": {
      "needs_background": "light"
     },
     "output_type": "display_data"
    },
    {
     "name": "stdout",
     "output_type": "stream",
     "text": [
      "5\n"
     ]
    }
   ],
   "source": [
    "# importamos las librerias necesarias para nuestas visualizaciones\n",
    "import time\n",
    "from IPython import display\n",
    "import matplotlib.pyplot as plt\n",
    "import seaborn as sns\n",
    "import pandas\n",
    "%matplotlib inline\n",
    "count = 0\n",
    "while count < 5:\n",
    "    \n",
    "    time.sleep(5)\n",
    "    top_10_tags = sqlContext.sql( 'Select hashtag, count from tweets' )\n",
    "    top_10_df = top_10_tags.toPandas()\n",
    "    display.clear_output(wait=True)\n",
    "    plt.figure( figsize = ( 10, 8 ) )\n",
    "    sns.barplot( x=\"count\", y=\"hashtag\", data=top_10_df)\n",
    "    plt.show()\n",
    "    count = count + 1\n",
    "    print(count)"
   ]
  },
  {
   "cell_type": "code",
   "execution_count": null,
   "metadata": {},
   "outputs": [],
   "source": []
  }
 ],
 "metadata": {
  "kernelspec": {
   "display_name": "Python 3",
   "language": "python",
   "name": "python3"
  },
  "language_info": {
   "codemirror_mode": {
    "name": "ipython",
    "version": 3
   },
   "file_extension": ".py",
   "mimetype": "text/x-python",
   "name": "python",
   "nbconvert_exporter": "python",
   "pygments_lexer": "ipython3",
   "version": "3.7.3"
  }
 },
 "nbformat": 4,
 "nbformat_minor": 2
}
